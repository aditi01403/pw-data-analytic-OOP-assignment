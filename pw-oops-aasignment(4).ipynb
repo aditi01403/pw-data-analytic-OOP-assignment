{
  "nbformat": 4,
  "nbformat_minor": 0,
  "metadata": {
    "colab": {
      "provenance": []
    },
    "kernelspec": {
      "name": "python3",
      "display_name": "Python 3"
    },
    "language_info": {
      "name": "python"
    }
  },
  "cells": [
    {
      "cell_type": "markdown",
      "source": [
        "Question 1. What are the five key concepts of object oriented programming (OOP)?\n",
        "\n",
        "Answer-Object-Oriented Programming (OOP) revolves around the concept of organizing software design around objects. The five key concepts of OOP are:\n",
        "\n",
        "1. Encapsulation:\n",
        "Encapsulation involves bundling data (attributes) and methods (functions) that operate on the data into a single unit, called an object. It also restricts direct access to some of an object's components to protect data integrity and maintain a clear boundary between the object's internal state and external interactions.\n",
        "\n",
        "Example: In a class Car, attributes like speed and methods like accelerate() are encapsulated within the class.\n",
        "\n",
        "\n",
        "\n",
        "2. Abstraction:\n",
        "Abstraction focuses on exposing only the essential details of an object while hiding unnecessary implementation details. This simplifies the interface for interacting with objects and allows users to work with high-level concepts.\n",
        "\n",
        "Example: A Vehicle class might define a method startEngine(), but the specific implementation (e.g., electric or combustion engine) is hidden.\n",
        "\n",
        "\n",
        "\n",
        "3. Inheritance:\n",
        "Inheritance allows a class (child class) to inherit attributes and methods from another class (parent class), promoting code reuse and hierarchical classification. This helps in creating a logical relationship between classes.\n",
        "\n",
        "Example: A Car class can inherit from a Vehicle class, gaining its properties (like wheels) and behaviors (like move()).\n",
        "\n",
        "\n",
        "\n",
        "4. Polymorphism:\n",
        "Polymorphism allows methods in different classes to have the same name but behave differently based on the object calling them. It is achieved through method overriding (runtime) and overloading (compile-time, in some languages).\n",
        "\n",
        "Example: A draw() method in a Shape class can be implemented differently in derived classes like Circle, Square, or Triangle.\n",
        "\n",
        "\n",
        "\n",
        "5. Composition:\n",
        "Composition is a design principle where objects are built from other objects. Instead of using inheritance to achieve functionality, composition involves using instances of other classes as part of a new class.\n",
        "\n",
        "Example: A Car class can have objects of Engine, Wheel, and Transmission classes as its components.\n",
        "\n",
        "\n",
        "\n",
        "\n",
        "These principles collectively provide a robust framework for designing modular, scalable, and maintainable software systems."
      ],
      "metadata": {
        "id": "-pUkvxivU7OG"
      }
    },
    {
      "cell_type": "markdown",
      "source": [
        "Question 2.Write a Python class for a 'car' with attributes for 'make' 'Model' and 'year' include a method to display the car's information.\n",
        "\n",
        "\n",
        "Answer-Here’s a Python class for a Car:"
      ],
      "metadata": {
        "id": "bPvBWb7uVmfb"
      }
    },
    {
      "cell_type": "code",
      "source": [
        "class Car:\n",
        "    def __init__(self, make, model, year):\n",
        "        \"\"\"\n",
        "        Initialize the Car object with make, model, and year attributes.\n",
        "        \"\"\"\n",
        "        self.make = make\n",
        "        self.model = model\n",
        "        self.year = year\n",
        "\n",
        "    def display_info(self):\n",
        "        \"\"\"\n",
        "        Display the car's information in a formatted string.\n",
        "        \"\"\"\n",
        "        return f\"{self.year} {self.make} {self.model}\"\n",
        "\n",
        "\n",
        "# Example usage:\n",
        "my_car = Car(\"Toyota\", \"Camry\", 2020)\n",
        "print(my_car.display_info())"
      ],
      "metadata": {
        "colab": {
          "base_uri": "https://localhost:8080/"
        },
        "id": "0l2ca5niW-tR",
        "outputId": "048cbb44-944e-439f-8d58-b803e235c0f9"
      },
      "execution_count": null,
      "outputs": [
        {
          "output_type": "stream",
          "name": "stdout",
          "text": [
            "2020 Toyota Camry\n"
          ]
        }
      ]
    },
    {
      "cell_type": "markdown",
      "source": [
        "Explanation:\n",
        "\n",
        "1. Attributes:\n",
        "\n",
        "make, model, and year are defined as instance attributes initialized via the constructor (__init__ method).\n",
        "\n",
        "\n",
        "\n",
        "2. Method:\n",
        "\n",
        "display_info returns a formatted string with the car's details.\n",
        "\n",
        "\n",
        "\n",
        "3. Usage:\n",
        "\n",
        "Create an instance of the Car class and call the display_info method to get the car's information."
      ],
      "metadata": {
        "id": "EbuoxXYpXJHG"
      }
    },
    {
      "cell_type": "markdown",
      "source": [
        "Question 3.Explain the difference between instance methods and class methods. Provide an example of each\n",
        "\n",
        "Answer-Difference Between Instance Methods and Class Methods:\n",
        "\n",
        "1. Instance Methods:\n",
        "\n",
        "Bound to the instance of a class.\n",
        "\n",
        "Can access and modify instance attributes and call other instance methods.\n",
        "\n",
        "Require an instance of the class to be called.\n",
        "\n",
        "Use self as the first parameter, which represents the specific instance."
      ],
      "metadata": {
        "id": "2YN-avoFXTwn"
      }
    },
    {
      "cell_type": "code",
      "source": [
        "class Example:\n",
        "    def __init__(self, value):\n",
        "        self.value = value  # Instance attribute\n",
        "\n",
        "    def instance_method(self):\n",
        "        return f\"Instance method called. Value: {self.value}\"\n",
        "\n",
        "\n",
        "obj = Example(42)\n",
        "print(obj.instance_method())  # Output: Instance method called. Value: 42"
      ],
      "metadata": {
        "colab": {
          "base_uri": "https://localhost:8080/"
        },
        "id": "4FR8JfiCYSjv",
        "outputId": "4fbee48d-69a2-4db8-e2d7-efb8f530761f"
      },
      "execution_count": null,
      "outputs": [
        {
          "output_type": "stream",
          "name": "stdout",
          "text": [
            "Instance method called. Value: 42\n"
          ]
        }
      ]
    },
    {
      "cell_type": "markdown",
      "source": [
        "2. Class Methods:\n",
        "\n",
        "Bound to the class itself rather than an instance.\n",
        "\n",
        "Used to work with class-level attributes or perform actions that relate to the class as a whole.\n",
        "\n",
        "Use @classmethod decorator and take cls as the first parameter, which represents the class itself.\n",
        "\n",
        "Can be called on both instances and the class."
      ],
      "metadata": {
        "id": "W8yLZZ85YUvM"
      }
    },
    {
      "cell_type": "code",
      "source": [
        "class Example:\n",
        "    class_variable = \"Class Level Data\"  # Class attribute\n",
        "\n",
        "    @classmethod\n",
        "    def class_method(cls):\n",
        "        return f\"Class method called. Class variable: {cls.class_variable}\"\n",
        "\n",
        "\n",
        "print(Example.class_method())  # Output: Class method called. Class variable: Class Level Data\n",
        "obj = Example()\n",
        "print(obj.class_method())  # Also works on an instance"
      ],
      "metadata": {
        "colab": {
          "base_uri": "https://localhost:8080/"
        },
        "id": "OqAVVzrnYZK0",
        "outputId": "e4a52384-d13d-4e93-b167-b4571b29b2fe"
      },
      "execution_count": null,
      "outputs": [
        {
          "output_type": "stream",
          "name": "stdout",
          "text": [
            "Class method called. Class variable: Class Level Data\n",
            "Class method called. Class variable: Class Level Data\n"
          ]
        }
      ]
    },
    {
      "cell_type": "markdown",
      "source": [
        "Question 4. How does Python implement method overloading ? give an example.\n",
        "\n",
        "\n",
        "Answer- Python does not directly support method overloading in the same way as languages like Java or C++, where multiple methods with the same name can exist with different parameters. Instead, Python achieves a similar result by using default arguments, variable-length arguments (*args, **kwargs), or conditional logic within a single method definition.\n",
        "\n",
        "\n",
        "\n",
        "Example of Simulated Method Overloading:"
      ],
      "metadata": {
        "id": "Aq4ck-N9YjhM"
      }
    },
    {
      "cell_type": "code",
      "source": [
        "class Calculator:\n",
        "    def add(self, a, b=None, c=None):\n",
        "        \"\"\"\n",
        "        Simulates method overloading by handling multiple cases.\n",
        "        - If only `a` and `b` are provided, return their sum.\n",
        "        - If `a`, `b`, and `c` are provided, return their sum.\n",
        "        \"\"\"\n",
        "        if b is None:\n",
        "            return a  # Single argument\n",
        "        elif c is None:\n",
        "            return a + b  # Two arguments\n",
        "        else:\n",
        "            return a + b + c  # Three arguments\n",
        "\n",
        "\n",
        "# Example usage\n",
        "calc = Calculator()\n",
        "print(calc.add(5))           # Output: 5 (only a)\n",
        "print(calc.add(5, 10))       # Output: 15 (a + b)\n",
        "print(calc.add(5, 10, 15))   # Output: 30 (a + b + c)"
      ],
      "metadata": {
        "colab": {
          "base_uri": "https://localhost:8080/"
        },
        "id": "zlDJ0B_pZVW1",
        "outputId": "edca35da-20e6-4dab-8541-9bbd20616bc6"
      },
      "execution_count": null,
      "outputs": [
        {
          "output_type": "stream",
          "name": "stdout",
          "text": [
            "5\n",
            "15\n",
            "30\n"
          ]
        }
      ]
    },
    {
      "cell_type": "markdown",
      "source": [
        "Explanation:\n",
        "\n",
        "1. Default Arguments:\n",
        "\n",
        "The add method uses default values (None) for parameters b and c. This allows it to handle a variable number of arguments.\n",
        "\n",
        "\n",
        "\n",
        "2. Conditional Logic:\n",
        "\n",
        "Inside the method, logic checks which arguments are provided and performs operations accordingly.\n",
        "\n",
        "\n",
        "\n",
        "3. Single Method:\n",
        "\n",
        "Instead of defining multiple methods with the same name, one method adapts its behavior based on input.\n",
        "\n",
        "\n",
        "\n",
        "\n",
        "\n",
        "---\n",
        "\n",
        "Using *args for Overloading:\n",
        "\n",
        "An alternative approach uses *args to accept a variable number of arguments."
      ],
      "metadata": {
        "id": "9rN4CW0MZY5j"
      }
    },
    {
      "cell_type": "code",
      "source": [
        "class Calculator:\n",
        "    def add(self, *args):\n",
        "        \"\"\"\n",
        "        Simulates method overloading using *args for variable arguments.\n",
        "        Adds all numbers passed as arguments.\n",
        "        \"\"\"\n",
        "        return sum(args)\n",
        "\n",
        "\n",
        "# Example usage\n",
        "calc = Calculator()\n",
        "print(calc.add(5))\n",
        "print(calc.add(5, 10))\n",
        "print(calc.add(5, 10, 15))"
      ],
      "metadata": {
        "colab": {
          "base_uri": "https://localhost:8080/"
        },
        "id": "kyo9bwPNZaMT",
        "outputId": "3ec37924-9510-4754-c6ce-06a6d244bd79"
      },
      "execution_count": null,
      "outputs": [
        {
          "output_type": "stream",
          "name": "stdout",
          "text": [
            "5\n",
            "15\n",
            "30\n"
          ]
        }
      ]
    },
    {
      "cell_type": "markdown",
      "source": [
        "In Python, method overloading is more about how you handle inputs within a single method, rather than defining multiple methods with different signatures."
      ],
      "metadata": {
        "id": "Ycsw5PpVZ5iB"
      }
    },
    {
      "cell_type": "markdown",
      "source": [
        "Question 5. What are the three types of access modifiers in Python? how are they denoted?\n",
        "\n",
        "Answer- Python has three types of access modifiers to control the visibility and accessibility of class attributes and methods. These are public, protected, and private. Python uses naming conventions to denote these access levels since it doesn’t enforce strict access control like some other languages.\n",
        "\n",
        "\n",
        "---\n",
        "\n",
        "1. Public\n",
        "\n",
        "Description: Attributes and methods that are accessible from anywhere (inside or outside the class).\n",
        "\n",
        "Denoted By: No special prefix (default visibility).\n",
        "\n",
        "Example:"
      ],
      "metadata": {
        "id": "7_kuws1_Z9Id"
      }
    },
    {
      "cell_type": "code",
      "source": [
        "class Example:\n",
        "    def __init__(self):\n",
        "        self.public_attribute = \"I am public\"\n",
        "\n",
        "    def public_method(self):\n",
        "        return \"This is a public method.\"\n",
        "\n",
        "\n",
        "obj = Example()\n",
        "print(obj.public_attribute)  # Accessing public attribute\n",
        "print(obj.public_method())   # Calling public method"
      ],
      "metadata": {
        "colab": {
          "base_uri": "https://localhost:8080/"
        },
        "id": "Dsjcz2K5azqC",
        "outputId": "70f3cb81-6f1d-48a5-d0a4-270ddd263f76"
      },
      "execution_count": null,
      "outputs": [
        {
          "output_type": "stream",
          "name": "stdout",
          "text": [
            "I am public\n",
            "This is a public method.\n"
          ]
        }
      ]
    },
    {
      "cell_type": "markdown",
      "source": [
        "2. Protected\n",
        "\n",
        "Description: Attributes and methods that are accessible within the class and its subclasses but not intended to be accessed directly outside these classes.\n",
        "\n",
        "Denoted By: A single underscore _ before the name.\n",
        "\n",
        "Example:"
      ],
      "metadata": {
        "id": "GzZs8xBka49P"
      }
    },
    {
      "cell_type": "code",
      "source": [
        "class Example:\n",
        "    def __init__(self):\n",
        "        self._protected_attribute = \"I am protected\"\n",
        "\n",
        "    def _protected_method(self):\n",
        "        return \"This is a protected method.\"\n",
        "\n",
        "\n",
        "obj = Example()\n",
        "print(obj._protected_attribute)  # Can be accessed, but not recommended\n",
        "print(obj._protected_method())   # Not enforced, but meant to be internal"
      ],
      "metadata": {
        "colab": {
          "base_uri": "https://localhost:8080/"
        },
        "id": "cHoltJVObGDB",
        "outputId": "e26400db-f2e8-4b70-9199-9213659c6bff"
      },
      "execution_count": null,
      "outputs": [
        {
          "output_type": "stream",
          "name": "stdout",
          "text": [
            "I am protected\n",
            "This is a protected method.\n"
          ]
        }
      ]
    },
    {
      "cell_type": "markdown",
      "source": [
        "3. Private\n",
        "\n",
        "Description: Attributes and methods that are meant to be completely inaccessible from outside the class. Python uses name mangling to make private attributes harder to access but still not completely restricted.\n",
        "\n",
        "Denoted By: A double underscore __ before the name.\n",
        "\n",
        "Example:"
      ],
      "metadata": {
        "id": "LInc1G2UbNJ2"
      }
    },
    {
      "cell_type": "code",
      "source": [
        "class Example:\n",
        "    def __init__(self):\n",
        "        self.__private_attribute = \"I am private\"\n",
        "\n",
        "    def __private_method(self):\n",
        "        return \"This is a private method.\"\n",
        "\n",
        "\n",
        "obj = Example()\n",
        "# print(obj.__private_attribute)  # Raises AttributeError\n",
        "# print(obj.__private_method())   # Raises AttributeError\n",
        "\n",
        "# Access using name mangling\n",
        "print(obj._Example__private_attribute)\n",
        "print(obj._Example__private_method())"
      ],
      "metadata": {
        "colab": {
          "base_uri": "https://localhost:8080/"
        },
        "id": "4PDTR1Rabfvj",
        "outputId": "0789719f-a6bd-4319-b44c-37b580f2e66c"
      },
      "execution_count": null,
      "outputs": [
        {
          "output_type": "stream",
          "name": "stdout",
          "text": [
            "I am private\n",
            "This is a private method.\n"
          ]
        }
      ]
    },
    {
      "cell_type": "markdown",
      "source": [
        "In Python, access modifiers rely on conventions and name mangling rather than strict enforcement. Developers are expected to follow these conventions to ensure code readability and maintainability."
      ],
      "metadata": {
        "id": "pSEyAeinbnbk"
      }
    },
    {
      "cell_type": "markdown",
      "source": [
        "Question 6. Describe the five types of inheritance in Python provide a simple example of multiple inheritance.\n",
        "\n",
        "\n",
        "Answer-Five Types of Inheritance in Python:\n",
        "\n",
        "1. Single Inheritance:\n",
        "A child class inherits from one parent class."
      ],
      "metadata": {
        "id": "CMBBZk87buAk"
      }
    },
    {
      "cell_type": "code",
      "source": [
        "class Parent:\n",
        "    pass\n",
        "\n",
        "class Child(Parent):\n",
        "    pass"
      ],
      "metadata": {
        "id": "wlrVUheFcVgu"
      },
      "execution_count": null,
      "outputs": []
    },
    {
      "cell_type": "markdown",
      "source": [
        "2. Multiple Inheritance:\n",
        "A child class inherits from multiple parent classes."
      ],
      "metadata": {
        "id": "YxXxIJ18cVvl"
      }
    },
    {
      "cell_type": "code",
      "source": [
        "class Parent1:\n",
        "    pass\n",
        "\n",
        "class Parent2:\n",
        "    pass\n",
        "\n",
        "class Child(Parent1, Parent2):\n",
        "    pass"
      ],
      "metadata": {
        "id": "Da2cYMiNcY8H"
      },
      "execution_count": null,
      "outputs": []
    },
    {
      "cell_type": "markdown",
      "source": [
        "3. Multilevel Inheritance:\n",
        "A child class inherits from a parent class, and then another class inherits from the child class."
      ],
      "metadata": {
        "id": "yvi0OYNUcckN"
      }
    },
    {
      "cell_type": "code",
      "source": [
        "class Grandparent:\n",
        "    pass\n",
        "\n",
        "class Parent(Grandparent):\n",
        "    pass\n",
        "\n",
        "class Child(Parent):\n",
        "    pass"
      ],
      "metadata": {
        "id": "Q8VBYKQQcfke"
      },
      "execution_count": null,
      "outputs": []
    },
    {
      "cell_type": "markdown",
      "source": [
        "4. Hierarchical Inheritance:\n",
        "Multiple child classes inherit from the same parent class."
      ],
      "metadata": {
        "id": "DSniIiC0civj"
      }
    },
    {
      "cell_type": "code",
      "source": [
        "class Parent:\n",
        "    pass\n",
        "\n",
        "class Child1(Parent):\n",
        "    pass\n",
        "\n",
        "class Child2(Parent):\n",
        "    pass"
      ],
      "metadata": {
        "id": "z71qVYQnclmC"
      },
      "execution_count": null,
      "outputs": []
    },
    {
      "cell_type": "markdown",
      "source": [
        "5. Hybrid Inheritance:\n",
        "A combination of two or more types of inheritance, such as hierarchical and multiple inheritance."
      ],
      "metadata": {
        "id": "zhHBWkYCcp6H"
      }
    },
    {
      "cell_type": "code",
      "source": [
        "class Parent:\n",
        "    pass\n",
        "\n",
        "class Child1(Parent):\n",
        "    pass\n",
        "\n",
        "class Child2(Parent):\n",
        "    pass\n",
        "\n",
        "class GrandChild(Child1, Child2):\n",
        "    pass"
      ],
      "metadata": {
        "id": "mqr4H3MpcuLX"
      },
      "execution_count": null,
      "outputs": []
    },
    {
      "cell_type": "markdown",
      "source": [
        "Example of Multiple Inheritance:"
      ],
      "metadata": {
        "id": "e4imJgOwc96z"
      }
    },
    {
      "cell_type": "code",
      "source": [
        "class Animal:\n",
        "    def sound(self):\n",
        "        return \"Some sound\"\n",
        "\n",
        "class Vehicle:\n",
        "    def move(self):\n",
        "        return \"Moving\"\n",
        "\n",
        "class Amphibian(Animal, Vehicle):\n",
        "    pass\n",
        "\n",
        "\n",
        "amphibian = Amphibian()\n",
        "print(amphibian.sound())\n",
        "print(amphibian.move())"
      ],
      "metadata": {
        "colab": {
          "base_uri": "https://localhost:8080/"
        },
        "id": "fVCTF61KdDdy",
        "outputId": "816525b9-6f72-4278-803c-f1fa3c63f768"
      },
      "execution_count": null,
      "outputs": [
        {
          "output_type": "stream",
          "name": "stdout",
          "text": [
            "Some sound\n",
            "Moving\n"
          ]
        }
      ]
    },
    {
      "cell_type": "markdown",
      "source": [
        "In this example, the Amphibian class inherits methods from both Animal and Vehicle."
      ],
      "metadata": {
        "id": "MqA_t5oTdHqc"
      }
    },
    {
      "cell_type": "markdown",
      "source": [
        "Question 7.What is the method resolution order (MRO) in Python? How can you retrieve it programmatically?\n",
        "\n",
        "\n",
        "Answer-What is Method Resolution Order (MRO)?\n",
        "\n",
        "In Python, the Method Resolution Order (MRO) is the order in which Python searches for a method or attribute in a hierarchy of classes. It is especially important in the context of multiple inheritance to determine which class’s method or attribute gets called when there's a conflict.\n",
        "\n",
        "MRO is determined by the C3 Linearization algorithm:\n",
        "\n",
        "1. It ensures consistent and predictable method resolution.\n",
        "\n",
        "\n",
        "2. It prioritizes the child class, then looks at parents in the order specified in the inheritance chain, and finally checks the base object class.\n",
        "\n",
        "\n",
        "\n",
        "\n",
        "---\n",
        "\n",
        "How to Retrieve the MRO Programmatically?\n",
        "\n",
        "You can retrieve the MRO of a class using:\n",
        "\n",
        "1. The __mro__ attribute.\n",
        "\n",
        "\n",
        "2. The mro() method.\n",
        "\n",
        "\n",
        "\n",
        "Example:"
      ],
      "metadata": {
        "id": "fN61iEgZdScE"
      }
    },
    {
      "cell_type": "code",
      "source": [
        "class A:\n",
        "    pass\n",
        "\n",
        "class B(A):\n",
        "    pass\n",
        "\n",
        "class C(A):\n",
        "    pass\n",
        "\n",
        "class D(B, C):\n",
        "    pass\n",
        "\n",
        "# Retrieve MRO\n",
        "print(D.__mro__)  # Output: (<class '__main__.D'>, <class '__main__.B'>, <class '__main__.C'>, <class '__main__.A'>, <class 'object'>)\n",
        "print(D.mro())    # Output: [<class '__main__.D'>, <class '__main__.B'>, <class '__main__.C'>, <class '__main__.A'>, <class 'object'>]"
      ],
      "metadata": {
        "colab": {
          "base_uri": "https://localhost:8080/"
        },
        "id": "kvC3ISFUeDL-",
        "outputId": "da685a99-4cb1-48fe-ce83-b2bb461a33b3"
      },
      "execution_count": null,
      "outputs": [
        {
          "output_type": "stream",
          "name": "stdout",
          "text": [
            "(<class '__main__.D'>, <class '__main__.B'>, <class '__main__.C'>, <class '__main__.A'>, <class 'object'>)\n",
            "[<class '__main__.D'>, <class '__main__.B'>, <class '__main__.C'>, <class '__main__.A'>, <class 'object'>]\n"
          ]
        }
      ]
    },
    {
      "cell_type": "markdown",
      "source": [
        "Key Points:\n",
        "\n",
        "1. The MRO determines the method/attribute lookup path.\n",
        "\n",
        "\n",
        "2. In the example:\n",
        "\n",
        "D is checked first, followed by B, then C, then A, and finally the base object.\n",
        "\n",
        "\n",
        "\n",
        "3. The MRO ensures a consistent and conflict-free lookup in multiple inheritance hierarchies."
      ],
      "metadata": {
        "id": "h7arAgNheDX8"
      }
    },
    {
      "cell_type": "markdown",
      "source": [
        "Question 8. Create an abstract base class 'shape'with an abstract method 'area' () . then create two subclasses 'circle' and 'rectangle' then implement the 'area'() method\n",
        "\n",
        "\n",
        "Answer-  Here is an example implementation of an abstract base class Shape with subclasses Circle and Rectangle:"
      ],
      "metadata": {
        "id": "Hi87dLJAeXti"
      }
    },
    {
      "cell_type": "code",
      "source": [
        "from abc import ABC, abstractmethod\n",
        "import math\n",
        "\n",
        "# Abstract base class\n",
        "class Shape(ABC):\n",
        "    @abstractmethod\n",
        "    def area(self):\n",
        "        \"\"\"Calculate and return the area of the shape\"\"\"\n",
        "        pass\n",
        "\n",
        "# Subclass for Circle\n",
        "class Circle(Shape):\n",
        "    def __init__(self, radius):\n",
        "        self.radius = radius\n",
        "\n",
        "    def area(self):\n",
        "        return math.pi * (self.radius ** 2)\n",
        "\n",
        "# Subclass for Rectangle\n",
        "class Rectangle(Shape):\n",
        "    def __init__(self, length, width):\n",
        "        self.length = length\n",
        "        self.width = width\n",
        "\n",
        "    def area(self):\n",
        "        return self.length * self.width\n",
        "\n",
        "# Example usage\n",
        "circle = Circle(5)\n",
        "print(f\"Area of Circle: {circle.area():.2f}\")\n",
        "\n",
        "rectangle = Rectangle(4, 6)\n",
        "print(f\"Area of Rectangle: {rectangle.area()}\")"
      ],
      "metadata": {
        "colab": {
          "base_uri": "https://localhost:8080/"
        },
        "id": "p2nng3ZJfutT",
        "outputId": "9d6807d5-71aa-4968-d0b6-41ccecf58ac3"
      },
      "execution_count": null,
      "outputs": [
        {
          "output_type": "stream",
          "name": "stdout",
          "text": [
            "Area of Circle: 78.54\n",
            "Area of Rectangle: 24\n"
          ]
        }
      ]
    },
    {
      "cell_type": "markdown",
      "source": [
        "Explanation:\n",
        "\n",
        "1. Abstract Class:\n",
        "\n",
        "Shape is an abstract base class (ABC) defined using the ABC module.\n",
        "\n",
        "The area method is marked as abstract using the @abstractmethod decorator, enforcing its implementation in subclasses.\n",
        "\n",
        "\n",
        "\n",
        "2. Circle Class:\n",
        "\n",
        "Implements the area method to calculate the area of a circle using the formula .\n",
        "\n",
        "\n",
        "\n",
        "3. Rectangle Class:\n",
        "\n",
        "Implements the area method to calculate the area of a rectangle using the formula .\n",
        "\n",
        "\n",
        "\n",
        "4. Example Usage:\n",
        "\n",
        "A Circle object is instantiated with a radius of 5, and its area is calculated.\n",
        "\n",
        "A Rectangle object is instantiated with a length of 4 and a width of 6, and its area is calculated.\n",
        "\n",
        "\n",
        "\n",
        "\n",
        "This implementation demonstrates polymorphism, as each subclass provides its own behavior for the area method while adhering to the interface defined by the abstract class."
      ],
      "metadata": {
        "id": "Q4-pT7jhf3Ss"
      }
    },
    {
      "cell_type": "markdown",
      "source": [
        "Question 9. Demonstrate polymorphism by creating a function that can work with different shape objects to calculate and print their cases .\n",
        "\n",
        "\n",
        "Answer -Here's an example of polymorphism with a function that works with different shape objects:"
      ],
      "metadata": {
        "id": "WXecuIFdgDgf"
      }
    },
    {
      "cell_type": "code",
      "source": [
        "from abc import ABC, abstractmethod\n",
        "import math\n",
        "\n",
        "# Abstract base class\n",
        "class Shape(ABC):\n",
        "    @abstractmethod\n",
        "    def area(self):\n",
        "        pass\n",
        "\n",
        "class Circle(Shape):\n",
        "    def __init__(self, radius):\n",
        "        self.radius = radius\n",
        "\n",
        "    def area(self):\n",
        "        return math.pi * self.radius ** 2\n",
        "\n",
        "class Rectangle(Shape):\n",
        "    def __init__(self, length, width):\n",
        "        self.length = length\n",
        "        self.width = width\n",
        "\n",
        "    def area(self):\n",
        "        return self.length * self.width\n",
        "\n",
        "# Polymorphic function\n",
        "def print_area(shape):\n",
        "    print(f\"The area of the {shape.__class__.__name__} is: {shape.area():.2f}\")\n",
        "\n",
        "# Example usage\n",
        "circle = Circle(5)\n",
        "rectangle = Rectangle(4, 6)\n",
        "\n",
        "print_area(circle)\n",
        "print_area(rectangle)"
      ],
      "metadata": {
        "colab": {
          "base_uri": "https://localhost:8080/"
        },
        "id": "dkMNqax_4Jjb",
        "outputId": "15498a71-b74d-4715-a975-4616225723de"
      },
      "execution_count": null,
      "outputs": [
        {
          "output_type": "stream",
          "name": "stdout",
          "text": [
            "The area of the Circle is: 78.54\n",
            "The area of the Rectangle is: 24.00\n"
          ]
        }
      ]
    },
    {
      "cell_type": "markdown",
      "source": [
        "Explanation:\n",
        "\n",
        "1. Polymorphic Function:\n",
        "\n",
        "The print_area function takes a Shape object and calls its area method without knowing the specific type of shape.\n",
        "\n",
        "\n",
        "\n",
        "2. Dynamic Behavior:\n",
        "\n",
        "The function works for any object that implements the area method, demonstrating polymorphism.\n",
        "\n",
        "\n",
        "\n",
        "3. Output:\n",
        "\n",
        "Different behaviors (Circle or Rectangle) are determined dynamically at runtime."
      ],
      "metadata": {
        "id": "bEtQ0Qdf4JyM"
      }
    },
    {
      "cell_type": "markdown",
      "source": [
        "Question 10. Implement encapsulation in a 'bank account'class with private attributes for 'balance' and 'account_number' include methods for deposit, withdrawal, and balance inquiry\n",
        "\n",
        "\n",
        "Answer- Here is a Python implementation of encapsulation in a BankAccount class:"
      ],
      "metadata": {
        "id": "JEMaNVbR4dNP"
      }
    },
    {
      "cell_type": "code",
      "source": [
        "class BankAccount:\n",
        "    def __init__(self, account_number, initial_balance=0):\n",
        "        # Private attributes\n",
        "        self.__account_number = account_number\n",
        "        self.__balance = initial_balance\n",
        "\n",
        "    # Method to deposit money\n",
        "    def deposit(self, amount):\n",
        "        if amount > 0:\n",
        "            self.__balance += amount\n",
        "            print(f\"Deposited: {amount}\")\n",
        "        else:\n",
        "            print(\"Deposit amount must be positive.\")\n",
        "\n",
        "    # Method to withdraw money\n",
        "    def withdraw(self, amount):\n",
        "        if amount > 0:\n",
        "            if amount <= self.__balance:\n",
        "                self.__balance -= amount\n",
        "                print(f\"Withdrew: {amount}\")\n",
        "            else:\n",
        "                print(\"Insufficient balance.\")\n",
        "        else:\n",
        "            print(\"Withdrawal amount must be positive.\")\n",
        "\n",
        "    # Method to inquire balance\n",
        "    def get_balance(self):\n",
        "        return self.__balance\n",
        "\n",
        "    # Method to get account number (read-only)\n",
        "    def get_account_number(self):\n",
        "        return self.__account_number\n",
        "\n",
        "\n",
        "# Example usage\n",
        "account = BankAccount(\"123456789\", 1000)\n",
        "print(f\"Account Number: {account.get_account_number()}\")  # Access account number\n",
        "print(f\"Initial Balance: {account.get_balance()}\")        # Check initial balance\n",
        "\n",
        "account.deposit(500)                                      # Deposit money\n",
        "print(f\"Balance after deposit: {account.get_balance()}\")\n",
        "\n",
        "account.withdraw(300)                                     # Withdraw money\n",
        "print(f\"Balance after withdrawal: {account.get_balance()}\")\n",
        "\n",
        "account.withdraw(1500)                                    # Attempt to withdraw too much"
      ],
      "metadata": {
        "colab": {
          "base_uri": "https://localhost:8080/"
        },
        "id": "1ovA-u5T6S8k",
        "outputId": "a9005e66-7307-43b2-e8a6-9581d097cf82"
      },
      "execution_count": null,
      "outputs": [
        {
          "output_type": "stream",
          "name": "stdout",
          "text": [
            "Account Number: 123456789\n",
            "Initial Balance: 1000\n",
            "Deposited: 500\n",
            "Balance after deposit: 1500\n",
            "Withdrew: 300\n",
            "Balance after withdrawal: 1200\n",
            "Insufficient balance.\n"
          ]
        }
      ]
    },
    {
      "cell_type": "markdown",
      "source": [
        "Explanation:\n",
        "\n",
        "1. Encapsulation:\n",
        "\n",
        "Private attributes __account_number and __balance ensure that these variables cannot be accessed or modified directly from outside the class.\n",
        "\n",
        "Methods deposit, withdraw, get_balance, and get_account_number provide controlled access to these private attributes.\n",
        "\n",
        "\n",
        "\n",
        "2. Deposit Method:\n",
        "\n",
        "Increases the balance if the amount is positive.\n",
        "\n",
        "\n",
        "\n",
        "3. Withdraw Method:\n",
        "\n",
        "Decreases the balance if the amount is positive and there are sufficient funds.\n",
        "\n",
        "\n",
        "\n",
        "4. Balance Inquiry:\n",
        "\n",
        "get_balance provides read-only access to the balance.\n",
        "\n",
        "\n",
        "\n",
        "5. Account Number:\n",
        "\n",
        "get_account_number allows read-only access to the account number."
      ],
      "metadata": {
        "id": "78TTc_lp6VNn"
      }
    },
    {
      "cell_type": "markdown",
      "source": [
        "Question 11. Write a class that overrides the'__str__and__add__'magic methods. What will these methods allow you to do?\n",
        "\n",
        "\n",
        "Answer- Overriding the __str__ and __add__ magic methods allows you to customize how an object of your class is converted to a string and how objects of your class interact with the addition operator (+), respectively.\n",
        "\n",
        "Here’s an example implementation:"
      ],
      "metadata": {
        "id": "NVGRULGG6eph"
      }
    },
    {
      "cell_type": "code",
      "source": [
        "class CustomClass:\n",
        "    def __init__(self, value):\n",
        "        self.value = value\n",
        "\n",
        "    def __str__(self):\n",
        "        \"\"\"\n",
        "        This method is called when str() or print() is used on the object.\n",
        "        Returns a string representation of the object.\n",
        "        \"\"\"\n",
        "        return f\"CustomClass with value: {self.value}\"\n",
        "\n",
        "    def __add__(self, other):\n",
        "        \"\"\"\n",
        "        This method is called when the '+' operator is used.\n",
        "        It defines how two objects of this class (or this class and another) are added.\n",
        "        \"\"\"\n",
        "        if isinstance(other, CustomClass):\n",
        "            # Combine the values of two CustomClass objects\n",
        "            return CustomClass(self.value + other.value)\n",
        "        elif isinstance(other, (int, float)):\n",
        "            # Add a numeric value to the object's value\n",
        "            return CustomClass(self.value + other)\n",
        "        else:\n",
        "            raise TypeError(f\"Unsupported operand type(s) for +: 'CustomClass' and '{type(other).__name__}'\")\n",
        "\n",
        "# Example usage\n",
        "obj1 = CustomClass(10)\n",
        "obj2 = CustomClass(20)\n",
        "\n",
        "# Demonstrating __str__\n",
        "print(obj1)  # Output: CustomClass with value: 10\n",
        "\n",
        "# Demonstrating __add__\n",
        "obj3 = obj1 + obj2\n",
        "print(obj3)  # Output: CustomClass with value: 30\n",
        "\n",
        "obj4 = obj1 + 5\n",
        "print(obj4)  # Output: CustomClass with value: 15\n",
        "\n",
        "# This will raise an error\n",
        "# obj5 = obj1 + \"hello\""
      ],
      "metadata": {
        "colab": {
          "base_uri": "https://localhost:8080/"
        },
        "id": "mnkAIDwzyhdO",
        "outputId": "bd99f5b3-93b9-40df-9c09-595c61a330ef"
      },
      "execution_count": null,
      "outputs": [
        {
          "output_type": "stream",
          "name": "stdout",
          "text": [
            "CustomClass with value: 10\n",
            "CustomClass with value: 30\n",
            "CustomClass with value: 15\n"
          ]
        }
      ]
    },
    {
      "cell_type": "markdown",
      "source": [
        "What these methods allow:\n",
        "\n",
        "1. __str__:\n",
        "\n",
        "Enables a readable string representation of the object, useful for debugging and displaying information.\n",
        "\n",
        "Called by str() or print() on an object.\n",
        "\n",
        "\n",
        "\n",
        "2. __add__:\n",
        "\n",
        "Defines custom behavior for the + operator when used with your object.\n",
        "\n",
        "Allows for addition of objects of the same class (or other types if explicitly handled)."
      ],
      "metadata": {
        "id": "0hHjF1yyyiGW"
      }
    },
    {
      "cell_type": "markdown",
      "source": [
        "Question 12. Create a decorator that measures and print the execution time of a function\n",
        "\n",
        "\n",
        "Answer-Here’s an example of a decorator that measures and prints the execution time of a function:"
      ],
      "metadata": {
        "id": "uHu2piZ6yu74"
      }
    },
    {
      "cell_type": "code",
      "source": [
        "import time\n",
        "\n",
        "def measure_execution_time(func):\n",
        "    def wrapper(*args, **kwargs):\n",
        "        start_time = time.time()  # Record start time\n",
        "        result = func(*args, **kwargs)  # Execute the wrapped function\n",
        "        end_time = time.time()  # Record end time\n",
        "        execution_time = end_time - start_time  # Calculate the duration\n",
        "        print(f\"Execution time of {func.__name__}: {execution_time:.4f} seconds\")\n",
        "        return result  # Return the original function's result\n",
        "    return wrapper\n",
        "\n",
        "# Example usage\n",
        "@measure_execution_time\n",
        "def example_function(n):\n",
        "    total = 0\n",
        "    for i in range(n):\n",
        "        total += i\n",
        "    return total\n",
        "\n",
        "# Call the decorated function\n",
        "result = example_function(1000000)\n",
        "print(f\"Result: {result}\")"
      ],
      "metadata": {
        "colab": {
          "base_uri": "https://localhost:8080/"
        },
        "id": "GkRwB-q4zLn8",
        "outputId": "531b7435-e438-4151-c4bd-315328decebb"
      },
      "execution_count": null,
      "outputs": [
        {
          "output_type": "stream",
          "name": "stdout",
          "text": [
            "Execution time of example_function: 0.1274 seconds\n",
            "Result: 499999500000\n"
          ]
        }
      ]
    },
    {
      "cell_type": "markdown",
      "source": [
        "Explanation:\n",
        "\n",
        "1. measure_execution_time:\n",
        "\n",
        "This is the decorator function that takes a function (func) as its argument.\n",
        "\n",
        "Inside the decorator, a wrapper function is defined to execute the original function and measure its execution time.\n",
        "\n",
        "\n",
        "\n",
        "2. time.time():\n",
        "\n",
        "Used to record the current time before and after the function's execution.\n",
        "\n",
        "\n",
        "\n",
        "3. Execution time calculation:\n",
        "\n",
        "The difference between the start and end times gives the execution duration.\n",
        "\n",
        "\n",
        "\n",
        "4. @measure_execution_time:\n",
        "\n",
        "Applied as a decorator to any function whose execution time you want to measure."
      ],
      "metadata": {
        "id": "u06-Vm1lzRdO"
      }
    },
    {
      "cell_type": "markdown",
      "source": [
        "Question 13. Explain the concept of Diamond problem in multiple inheritance. how does Python resolve it\n",
        "\n",
        "\n",
        "Answer -The diamond problem occurs in multiple inheritance when a class inherits from two classes that both inherit from a common base class. This creates ambiguity about which path to follow to inherit attributes or methods from the base class."
      ],
      "metadata": {
        "id": "TK-2mpGszqgc"
      }
    },
    {
      "cell_type": "code",
      "source": [
        "class A:\n",
        "    def show(self):\n",
        "        print(\"A\")\n",
        "\n",
        "class B(A):\n",
        "    def show(self):\n",
        "        print(\"B\")\n",
        "\n",
        "class C(A):\n",
        "    def show(self):\n",
        "        print(\"C\")\n",
        "\n",
        "class D(B, C):\n",
        "    pass\n",
        "\n",
        "d = D()\n",
        "d.show()  # Ambiguity: Should it call B's or C's method?"
      ],
      "metadata": {
        "colab": {
          "base_uri": "https://localhost:8080/"
        },
        "id": "lciNu_qV0JIF",
        "outputId": "6e459079-d90d-4093-d5a6-61ba6c1eb290"
      },
      "execution_count": null,
      "outputs": [
        {
          "output_type": "stream",
          "name": "stdout",
          "text": [
            "B\n"
          ]
        }
      ]
    },
    {
      "cell_type": "markdown",
      "source": [
        "Python's Resolution:\n",
        "\n",
        "Python resolves this using the C3 Linearization (Method Resolution Order - MRO). MRO defines the order in which classes are searched for methods and attributes, ensuring a deterministic and consistent path.\n",
        "\n",
        "Use ClassName.mro() or help(ClassName) to see the MRO.\n",
        "\n",
        "For the above example: D.mro() would yield [D, B, C, A, object].\n",
        "\n",
        "\n",
        "Key Points:\n",
        "\n",
        "Python follows the MRO to resolve ambiguity.\n",
        "\n",
        "The super() function adheres to the MRO, ensuring proper method delegation."
      ],
      "metadata": {
        "id": "6Ery_GhG0JTt"
      }
    },
    {
      "cell_type": "markdown",
      "source": [
        "Question 14. Write a class method that keeps track of the number of inheritance created from a class\n",
        "\n",
        "Answer -Here’s a concise implementation of a class that tracks the number of instances created from it and its subclasses:"
      ],
      "metadata": {
        "id": "6wLj0fIv0Tx9"
      }
    },
    {
      "cell_type": "code",
      "source": [
        "class Base:\n",
        "    instance_count = 0\n",
        "\n",
        "    def __init__(self):\n",
        "        type(self).instance_count += 1  # Increment count for the current class\n",
        "\n",
        "    @classmethod\n",
        "    def get_instance_count(cls):\n",
        "        return cls.instance_count\n",
        "\n",
        "# Example usage\n",
        "class SubClassA(Base):\n",
        "    pass\n",
        "\n",
        "class SubClassB(Base):\n",
        "    pass\n",
        "\n",
        "# Create instances\n",
        "a1 = SubClassA()\n",
        "a2 = SubClassA()\n",
        "b1 = SubClassB()\n",
        "\n",
        "print(SubClassA.get_instance_count())  # Output: 2\n",
        "print(SubClassB.get_instance_count())  # Output: 1\n",
        "print(Base.get_instance_count())       # Output: 0 (Base itself has no direct instances)"
      ],
      "metadata": {
        "colab": {
          "base_uri": "https://localhost:8080/"
        },
        "id": "eUwu4O-_0s7z",
        "outputId": "2d3de063-08ff-4966-8988-1cbe7fb0bd13"
      },
      "execution_count": null,
      "outputs": [
        {
          "output_type": "stream",
          "name": "stdout",
          "text": [
            "2\n",
            "1\n",
            "0\n"
          ]
        }
      ]
    },
    {
      "cell_type": "markdown",
      "source": [
        "Explanation:\n",
        "\n",
        "1. instance_count: A class-level variable to track the number of instances for each class.\n",
        "\n",
        "\n",
        "2. type(self).instance_count: Dynamically increments the instance_count for the actual class of the instance being created (supports subclasses).\n",
        "\n",
        "\n",
        "3. @classmethod: Allows access to the class variable for the specific class calling the method."
      ],
      "metadata": {
        "id": "i-IZjbDK0tF-"
      }
    },
    {
      "cell_type": "markdown",
      "source": [
        "Question 15. Implement a static method in a class that checks if a given year is a leap year\n",
        "\n",
        "Answer -Here’s an implementation of a static method to check if a given year is a leap year:"
      ],
      "metadata": {
        "id": "VMEA1rRA01k3"
      }
    },
    {
      "cell_type": "code",
      "source": [
        "class DateUtils:\n",
        "    @staticmethod\n",
        "    def is_leap_year(year):\n",
        "        \"\"\"\n",
        "        Checks if a given year is a leap year.\n",
        "        A year is a leap year if:\n",
        "        - It is divisible by 4, and\n",
        "        - It is not divisible by 100, unless it is also divisible by 400.\n",
        "        \"\"\"\n",
        "        if (year % 4 == 0 and year % 100 != 0) or (year % 400 == 0):\n",
        "            return True\n",
        "        return False\n",
        "\n",
        "# Example usage\n",
        "print(DateUtils.is_leap_year(2024))  # Output: True\n",
        "print(DateUtils.is_leap_year(1900))  # Output: False\n",
        "print(DateUtils.is_leap_year(2000))  # Output: True"
      ],
      "metadata": {
        "colab": {
          "base_uri": "https://localhost:8080/"
        },
        "id": "zEV4eo3Y1L46",
        "outputId": "daac7aba-bd38-47aa-d964-05276526eadf"
      },
      "execution_count": null,
      "outputs": [
        {
          "output_type": "stream",
          "name": "stdout",
          "text": [
            "True\n",
            "False\n",
            "True\n"
          ]
        }
      ]
    },
    {
      "cell_type": "markdown",
      "source": [
        "Explanation:\n",
        "\n",
        "1. Staticmethod: Declares the method as static, meaning it doesn’t require access to instance or class-level data. It can be called directly on the class.\n",
        "\n",
        "\n",
        "2. Logic:\n",
        "\n",
        "A year divisible by 4 is a leap year unless it’s divisible by 100, in which case it must also be divisible by 400."
      ],
      "metadata": {
        "id": "OIzaVC0O1MCJ"
      }
    }
  ]
}